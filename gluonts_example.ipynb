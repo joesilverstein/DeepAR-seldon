{
 "cells": [
  {
   "cell_type": "code",
   "execution_count": 143,
   "id": "e39f1d69-224c-4025-8f4f-b6e887d7f027",
   "metadata": {},
   "outputs": [],
   "source": [
    "from gluonts.dataset.util import to_pandas\n",
    "from gluonts.dataset.pandas import PandasDataset\n",
    "from gluonts.dataset.repository.datasets import get_dataset\n",
    "from gluonts.model.deepar import DeepAREstimator\n",
    "from gluonts.mx import Trainer\n",
    "\n",
    "import pickle\n",
    "import numpy as np\n",
    "import json\n",
    "import requests"
   ]
  },
  {
   "cell_type": "code",
   "execution_count": 96,
   "id": "036cdf83-70c4-478c-b15d-ff90875ab601",
   "metadata": {},
   "outputs": [],
   "source": [
    "dataset = get_dataset(\"airpassengers\")"
   ]
  },
  {
   "cell_type": "code",
   "execution_count": 93,
   "id": "0a20982a-2bd8-4947-b2c7-e0dac423a5f0",
   "metadata": {},
   "outputs": [
    {
     "data": {
      "text/plain": [
       "MetaData(freq='1M', target=None, feat_static_cat=[], feat_static_real=[], feat_dynamic_real=[], feat_dynamic_cat=[], prediction_length=12)"
      ]
     },
     "execution_count": 93,
     "metadata": {},
     "output_type": "execute_result"
    }
   ],
   "source": [
    "dataset.metadata"
   ]
  },
  {
   "cell_type": "code",
   "execution_count": 76,
   "id": "4c53d88e-bfa9-4d5e-bec2-d743b54df764",
   "metadata": {},
   "outputs": [
    {
     "name": "stderr",
     "output_type": "stream",
     "text": [
      "100%|█████████████████████████████████████████████████████████| 50/50 [00:02<00:00, 21.45it/s, epoch=1/5, avg_epoch_loss=5.05]\n",
      "100%|█████████████████████████████████████████████████████████| 50/50 [00:02<00:00, 22.96it/s, epoch=2/5, avg_epoch_loss=4.41]\n",
      "100%|█████████████████████████████████████████████████████████| 50/50 [00:02<00:00, 22.63it/s, epoch=3/5, avg_epoch_loss=4.18]\n",
      "100%|█████████████████████████████████████████████████████████| 50/50 [00:02<00:00, 22.90it/s, epoch=4/5, avg_epoch_loss=3.99]\n",
      "100%|█████████████████████████████████████████████████████████| 50/50 [00:02<00:00, 22.55it/s, epoch=5/5, avg_epoch_loss=3.86]\n"
     ]
    }
   ],
   "source": [
    "deepar = DeepAREstimator(prediction_length=12, freq=\"M\", trainer=Trainer(epochs=5))\n",
    "model = deepar.train(dataset.train)"
   ]
  },
  {
   "cell_type": "code",
   "execution_count": 77,
   "id": "af5351b4-51b4-49c0-9ed6-91cb03229ef3",
   "metadata": {},
   "outputs": [],
   "source": [
    "with open('gluonts_model.pkl', 'wb') as f:\n",
    "    pickle.dump(model, f)"
   ]
  },
  {
   "cell_type": "code",
   "execution_count": null,
   "id": "3dd7ed5a-5f38-4bd8-a765-d8b5856a9b45",
   "metadata": {},
   "outputs": [],
   "source": []
  },
  {
   "cell_type": "code",
   "execution_count": 78,
   "id": "7a194aac-ed91-4b66-863d-d477166451c5",
   "metadata": {},
   "outputs": [],
   "source": [
    "# with open('gluonts_model', 'rb') as f:\n",
    "#     model = pickle.load(f)"
   ]
  },
  {
   "cell_type": "code",
   "execution_count": 79,
   "id": "e5c10269-fa4c-4ab2-8ca4-967acaba388b",
   "metadata": {},
   "outputs": [
    {
     "data": {
      "text/plain": [
       "<AxesSubplot:>"
      ]
     },
     "execution_count": 79,
     "metadata": {},
     "output_type": "execute_result"
    },
    {
     "data": {
      "image/png": "[encoded data removed]",
      "text/plain": [
       "<Figure size 432x288 with 1 Axes>"
      ]
     },
     "metadata": {
      "needs_background": "light"
     },
     "output_type": "display_data"
    }
   ],
   "source": [
    "# Make predictions\n",
    "true_values = to_pandas(list(dataset.test)[0])\n",
    "true_values.to_timestamp().plot(color=\"k\")"
   ]
  },
  {
   "cell_type": "code",
   "execution_count": 80,
   "id": "fed02963-1ddd-45ff-a15d-3207487f685f",
   "metadata": {},
   "outputs": [
    {
     "data": {
      "text/plain": [
       "1949-01    112.0\n",
       "1949-02    118.0\n",
       "1949-03    132.0\n",
       "1949-04    129.0\n",
       "1949-05    121.0\n",
       "           ...  \n",
       "1957-08    467.0\n",
       "1957-09    404.0\n",
       "1957-10    347.0\n",
       "1957-11    305.0\n",
       "1957-12    336.0\n",
       "Freq: M, Length: 108, dtype: float32"
      ]
     },
     "execution_count": 80,
     "metadata": {},
     "output_type": "execute_result"
    }
   ],
   "source": [
    "true_values[:-36]"
   ]
  },
  {
   "cell_type": "code",
   "execution_count": 81,
   "id": "eee71c4d-f88b-435f-948a-498b29707509",
   "metadata": {},
   "outputs": [],
   "source": [
    "prediction_input = PandasDataset([true_values[:-36], true_values[:-24], true_values[:-12]])\n",
    "predictions = model.predict(prediction_input)"
   ]
  },
  {
   "cell_type": "markdown",
   "id": "a64ddb4b-6254-4197-857b-2ffed66ef125",
   "metadata": {},
   "source": [
    "https://ts.gluon.ai/stable/tutorials/forecasting/quick_start_tutorial.html"
   ]
  },
  {
   "cell_type": "code",
   "execution_count": null,
   "id": "6818ecb1-f05a-4cc9-ac8a-67123b8d0ea4",
   "metadata": {},
   "outputs": [],
   "source": []
  },
  {
   "cell_type": "code",
   "execution_count": null,
   "id": "f97f1f0d-0e71-45c0-8461-e5de78b43045",
   "metadata": {},
   "outputs": [],
   "source": []
  },
  {
   "cell_type": "code",
   "execution_count": 63,
   "id": "ccfb6ccd-9b4f-4bff-a822-3912ffaf4621",
   "metadata": {},
   "outputs": [],
   "source": [
    "import pandas as pd\n",
    "import numpy as np\n",
    "from gluonts.dataset.common import ListDataset\n",
    "from gluonts.dataset.field_names import FieldName"
   ]
  },
  {
   "cell_type": "code",
   "execution_count": 52,
   "id": "e0cdf200-d3a6-4dd4-9dd2-f0c7bb6cc9c3",
   "metadata": {},
   "outputs": [],
   "source": [
    "# define the parameters of the dataset\n",
    "custom_ds_metadata = {\n",
    "    \"num_series\": 100,\n",
    "    \"num_steps\": 24 * 7,\n",
    "    \"prediction_length\": 24,\n",
    "    \"freq\": \"1H\",\n",
    "    \"start\": [pd.Period(\"01-01-2019\", freq=\"1H\") for _ in range(100)],\n",
    "}"
   ]
  },
  {
   "cell_type": "code",
   "execution_count": 54,
   "id": "bb03996b-f325-4c29-9b41-d73b8305de40",
   "metadata": {},
   "outputs": [],
   "source": [
    "def create_dataset(num_series, num_steps, period=24, mu=1, sigma=0.3):\n",
    "    # create target: noise + pattern\n",
    "    # noise\n",
    "    noise = np.random.normal(mu, sigma, size=(num_series, num_steps))\n",
    "\n",
    "    # pattern - sinusoid with different phase\n",
    "    sin_minusPi_Pi = np.sin(\n",
    "        np.tile(np.linspace(-np.pi, np.pi, period), int(num_steps / period))\n",
    "    )\n",
    "    sin_Zero_2Pi = np.sin(\n",
    "        np.tile(np.linspace(0, 2 * np.pi, 24), int(num_steps / period))\n",
    "    )\n",
    "\n",
    "    pattern = np.concatenate(\n",
    "        (\n",
    "            np.tile(sin_minusPi_Pi.reshape(1, -1), (int(np.ceil(num_series / 2)), 1)),\n",
    "            np.tile(sin_Zero_2Pi.reshape(1, -1), (int(np.floor(num_series / 2)), 1)),\n",
    "        ),\n",
    "        axis=0,\n",
    "    )\n",
    "\n",
    "    target = noise + pattern\n",
    "\n",
    "    # create time features: use target one period earlier, append with zeros\n",
    "    feat_dynamic_real = np.concatenate(\n",
    "        (np.zeros((num_series, period)), target[:, :-period]), axis=1\n",
    "    )\n",
    "\n",
    "    # create categorical static feats: use the sinusoid type as a categorical feature\n",
    "    feat_static_cat = np.concatenate(\n",
    "        (\n",
    "            np.zeros(int(np.ceil(num_series / 2))),\n",
    "            np.ones(int(np.floor(num_series / 2))),\n",
    "        ),\n",
    "        axis=0,\n",
    "    )\n",
    "\n",
    "    return target, feat_dynamic_real, feat_static_cat"
   ]
  },
  {
   "cell_type": "code",
   "execution_count": 55,
   "id": "cd58643d-9501-467d-bebc-423fbdee479e",
   "metadata": {},
   "outputs": [],
   "source": [
    "data_out = create_dataset(\n",
    "    custom_ds_metadata[\"num_series\"],\n",
    "    custom_ds_metadata[\"num_steps\"],\n",
    "    custom_ds_metadata[\"prediction_length\"],\n",
    ")\n",
    "\n",
    "target, feat_dynamic_real, feat_static_cat = data_out"
   ]
  },
  {
   "cell_type": "code",
   "execution_count": 64,
   "id": "6e99fc61-5fb1-4fb8-a20c-f52c85be04ba",
   "metadata": {},
   "outputs": [],
   "source": [
    "train_ds = ListDataset(\n",
    "    [\n",
    "        {\n",
    "            FieldName.TARGET: target,\n",
    "            FieldName.START: start,\n",
    "            FieldName.FEAT_DYNAMIC_REAL: [fdr],\n",
    "            FieldName.FEAT_STATIC_CAT: [fsc],\n",
    "        }\n",
    "        for (target, start, fdr, fsc) in zip(\n",
    "            target[:, : -custom_ds_metadata[\"prediction_length\"]],\n",
    "            custom_ds_metadata[\"start\"],\n",
    "            feat_dynamic_real[:, : -custom_ds_metadata[\"prediction_length\"]],\n",
    "            feat_static_cat,\n",
    "        )\n",
    "    ],\n",
    "    freq=custom_ds_metadata[\"freq\"],\n",
    ")"
   ]
  },
  {
   "cell_type": "code",
   "execution_count": 93,
   "id": "78667c39-8c98-4354-8c56-08304ffc220d",
   "metadata": {},
   "outputs": [],
   "source": [
    "test_ds_list = [\n",
    "    {\n",
    "        FieldName.TARGET: target,\n",
    "        FieldName.START: start,\n",
    "        FieldName.FEAT_DYNAMIC_REAL: [fdr],\n",
    "        FieldName.FEAT_STATIC_CAT: [fsc],\n",
    "    }\n",
    "    for (target, start, fdr, fsc) in zip(\n",
    "        target, custom_ds_metadata[\"start\"], feat_dynamic_real, feat_static_cat\n",
    "    )\n",
    "]"
   ]
  },
  {
   "cell_type": "code",
   "execution_count": 137,
   "id": "61b2710f-1f7d-44c5-87ee-d0d92c4abd5a",
   "metadata": {},
   "outputs": [],
   "source": [
    "test_ds_json_dict = {}\n",
    "for i, entry in enumerate(test_ds):\n",
    "    entry_dict = {}\n",
    "    entry_dict['start'] = str(entry['start'])\n",
    "    entry_dict['target'] = json.dumps(pickle.dumps(entry['target']).decode('latin-1'))\n",
    "    entry_dict['feat_dynamic_real'] = json.dumps(pickle.dumps(entry['feat_dynamic_real']).decode('latin-1'))\n",
    "    entry_dict['feat_static_cat'] = json.dumps(pickle.dumps(entry['feat_static_cat']).decode('latin-1'))\n",
    "    test_ds_json_dict[i] = json.dumps(entry_dict)"
   ]
  },
  {
   "cell_type": "code",
   "execution_count": 138,
   "id": "df30273b-d8d4-43e2-9ce9-973d4ffd003f",
   "metadata": {
    "tags": []
   },
   "outputs": [],
   "source": [
    "input_json = json.dumps(test_ds_json_dict)"
   ]
  },
  {
   "cell_type": "code",
   "execution_count": 65,
   "id": "441556d6-c4c8-475d-a58b-2253ee38939d",
   "metadata": {},
   "outputs": [
    {
     "name": "stderr",
     "output_type": "stream",
     "text": [
      "100%|███████████████████████████████████████████████████████████| 50/50 [00:04<00:00, 11.99it/s, epoch=1/5, avg_epoch_loss=5.03]\n",
      "100%|███████████████████████████████████████████████████████████| 50/50 [00:03<00:00, 13.27it/s, epoch=2/5, avg_epoch_loss=4.35]\n",
      "100%|███████████████████████████████████████████████████████████| 50/50 [00:03<00:00, 13.07it/s, epoch=3/5, avg_epoch_loss=4.19]\n",
      "100%|███████████████████████████████████████████████████████████| 50/50 [00:03<00:00, 13.09it/s, epoch=4/5, avg_epoch_loss=4.04]\n",
      "100%|███████████████████████████████████████████████████████████| 50/50 [00:03<00:00, 13.23it/s, epoch=5/5, avg_epoch_loss=3.92]\n"
     ]
    }
   ],
   "source": [
    "deepar = DeepAREstimator(\n",
    "    prediction_length=custom_ds_metadata[\"prediction_length\"],\n",
    "    freq=custom_ds_metadata[\"freq\"],\n",
    "    trainer=Trainer(epochs=5)\n",
    ")\n",
    "model = deepar.train(dataset.train)"
   ]
  },
  {
   "cell_type": "code",
   "execution_count": null,
   "id": "7043bb93-7f86-488f-9228-772063c2c4bf",
   "metadata": {},
   "outputs": [],
   "source": [
    "with open('gluonts_model.pkl', 'wb') as f:\n",
    "    pickle.dump(model, f)"
   ]
  },
  {
   "cell_type": "code",
   "execution_count": 159,
   "id": "50d8e0a6-ddab-4211-a88f-65fd2adc88ec",
   "metadata": {},
   "outputs": [],
   "source": [
    "url = 'http://localhost:9000/api/v0.1/predictions'"
   ]
  },
  {
   "cell_type": "code",
   "execution_count": null,
   "id": "7b8786b8-4357-4283-a058-4e3d012d1690",
   "metadata": {},
   "outputs": [],
   "source": [
    "data = {}\n",
    "data['jsonData'] = input_json"
   ]
  },
  {
   "cell_type": "code",
   "execution_count": null,
   "id": "5677c8df-59ba-4865-9ef5-a5a22e862341",
   "metadata": {},
   "outputs": [],
   "source": [
    "test_ds_json_dict = json.loads(input_json)\n",
    "\n",
    "entry_json = json.loads(test_ds_json_dict[str(0)])"
   ]
  },
  {
   "cell_type": "code",
   "execution_count": 175,
   "id": "063624d6-1e1f-4da8-aaab-adc393443c96",
   "metadata": {},
   "outputs": [],
   "source": [
    "response = requests.post(url, json=data, timeout=None)"
   ]
  },
  {
   "cell_type": "code",
   "execution_count": 176,
   "id": "977b579b-44b3-49a1-8e35-ad7d767fe04b",
   "metadata": {},
   "outputs": [
    {
     "data": {
      "text/plain": [
       "200"
      ]
     },
     "execution_count": 176,
     "metadata": {},
     "output_type": "execute_result"
    }
   ],
   "source": [
    "response.status_code"
   ]
  },
  {
   "cell_type": "code",
   "execution_count": 177,
   "id": "e2c4fefc-e88b-4b75-8baa-c35dffdac0c2",
   "metadata": {},
   "outputs": [],
   "source": [
    "js = response.json()\n",
    "data = js.get(\"data\")\n",
    "tensor = data.get(\"tensor\")\n",
    "shape = tensor.get(\"shape\")\n",
    "values = tensor.get(\"values\")\n",
    "prediction_samples = np.array(values).reshape(shape)"
   ]
  },
  {
   "cell_type": "code",
   "execution_count": 178,
   "id": "40de8ca4-1219-4755-bade-d8138ea7dcab",
   "metadata": {
    "collapsed": true,
    "jupyter": {
     "outputs_hidden": true
    },
    "tags": []
   },
   "outputs": [
    {
     "data": {
      "text/plain": [
       "array([[[ 1.74968541,  1.76095605, -0.11252186, ...,  1.41251779,\n",
       "          1.7270298 ,  1.08520484],\n",
       "        [ 1.30309284,  1.87289548,  0.87729073, ...,  1.83283603,\n",
       "          0.93508703,  0.08338691],\n",
       "        [ 1.60517395,  1.26462483,  0.69677031, ...,  1.39036775,\n",
       "          1.71701038,  1.39198792],\n",
       "        ...,\n",
       "        [ 0.97467518,  0.93414474,  0.8418805 , ...,  1.214571  ,\n",
       "          1.10813749,  1.6725992 ],\n",
       "        [ 1.22128844,  0.83461022,  1.13273168, ...,  0.92765862,\n",
       "          1.35331213,  1.05986965],\n",
       "        [ 0.86357456,  0.17654993, -0.01487936, ...,  1.41134584,\n",
       "          1.27037239,  1.05056453]],\n",
       "\n",
       "       [[ 0.33679685,  1.26923335,  0.78098214, ...,  0.27934897,\n",
       "          0.99528211,  0.88594866],\n",
       "        [ 1.21838689,  0.73931181,  0.30097649, ...,  0.97751683,\n",
       "          1.23383963,  1.3474623 ],\n",
       "        [ 1.36849391,  1.39483178,  0.94455975, ...,  1.90182304,\n",
       "          0.79079801,  1.2601763 ],\n",
       "        ...,\n",
       "        [ 0.89048731,  0.5185498 ,  1.41366303, ...,  0.98646593,\n",
       "          0.86901629,  1.90644455],\n",
       "        [ 1.22885191,  0.71840215,  0.89666021, ...,  1.4438045 ,\n",
       "          1.76557565,  2.08332491],\n",
       "        [ 1.69051123,  0.56481123,  1.08860743, ...,  0.8338303 ,\n",
       "          1.34152424,  1.10905361]],\n",
       "\n",
       "       [[ 1.27646959,  1.78477466,  1.34157336, ...,  1.91684604,\n",
       "          1.59836507,  1.64600468],\n",
       "        [ 0.58000743,  1.10722661,  1.94240522, ...,  1.66070867,\n",
       "          0.8350935 ,  1.09947991],\n",
       "        [ 1.14900279,  0.90403086,  0.28363734, ...,  1.65512156,\n",
       "          1.31209743,  1.26364899],\n",
       "        ...,\n",
       "        [ 1.28879642,  1.7000742 ,  0.44447392, ..., -0.03159992,\n",
       "          0.86157537,  1.05550134],\n",
       "        [ 2.21800542,  1.62753356,  1.05202889, ...,  1.05946922,\n",
       "          1.53734457,  1.67349231],\n",
       "        [ 1.34704483,  1.13025272,  1.05294836, ...,  1.82968581,\n",
       "          1.60206616,  1.04693568]],\n",
       "\n",
       "       ...,\n",
       "\n",
       "       [[ 1.13383317,  1.28610361,  0.17490435, ...,  1.5087347 ,\n",
       "          2.01805925,  2.2854774 ],\n",
       "        [ 1.30948126,  0.66791642,  0.81966621, ...,  1.81409895,\n",
       "          1.80833876,  1.60542536],\n",
       "        [ 1.05815053,  2.95414758,  1.50189722, ...,  1.41301   ,\n",
       "          1.92587209, -1.14151537],\n",
       "        ...,\n",
       "        [ 0.84472626,  1.10271502,  2.04313707, ...,  1.13605559,\n",
       "          0.86267179,  1.53432143],\n",
       "        [ 2.36953974, -0.128548  , -0.06770615, ...,  1.52842295,\n",
       "          0.7727313 ,  1.30474091],\n",
       "        [ 1.21030176,  0.25996569, -3.20831394, ...,  1.39242303,\n",
       "          0.99262786,  0.98459733]],\n",
       "\n",
       "       [[ 1.25562191,  1.01501429,  1.5128051 , ...,  0.90025103,\n",
       "          1.3172785 ,  1.39022517],\n",
       "        [ 0.51687825,  0.4450143 ,  2.67368126, ..., -0.39632952,\n",
       "          0.50369942,  0.9697293 ],\n",
       "        [ 0.68710291,  1.13289297,  2.00001574, ...,  1.17249286,\n",
       "          0.9177227 ,  1.64957941],\n",
       "        ...,\n",
       "        [ 1.03942263,  1.01562881,  0.75621659, ...,  1.66175485,\n",
       "          1.65806675,  0.86450523],\n",
       "        [ 3.01625872,  2.46109557,  1.5074718 , ...,  1.43002868,\n",
       "          2.15692592,  1.7762481 ],\n",
       "        [ 1.09459329,  0.1929199 ,  0.03037326, ...,  2.05501151,\n",
       "          2.94926453,  1.51125753]],\n",
       "\n",
       "       [[ 7.61645794,  2.27848148,  0.97383583, ...,  1.35563231,\n",
       "          2.05071425,  2.473598  ],\n",
       "        [ 0.54806554,  0.44925568,  1.17656267, ...,  1.75289285,\n",
       "          1.7732693 ,  1.71954334],\n",
       "        [ 1.33959639,  1.21118975,  1.02503419, ...,  1.78239763,\n",
       "          1.31019127,  2.5193181 ],\n",
       "        ...,\n",
       "        [ 1.90632415,  1.18761182,  1.28653347, ...,  1.76559186,\n",
       "          2.03284574,  1.35603631],\n",
       "        [ 0.93907505,  1.21158028,  1.67425704, ...,  1.7231499 ,\n",
       "          2.24911642,  2.2077167 ],\n",
       "        [ 2.42134237,  1.83244002, -0.10921099, ...,  1.50028646,\n",
       "          1.69890618,  2.79981375]]])"
      ]
     },
     "execution_count": 178,
     "metadata": {},
     "output_type": "execute_result"
    }
   ],
   "source": [
    "prediction_samples"
   ]
  },
  {
   "cell_type": "code",
   "execution_count": 179,
   "id": "8cfc4f00-ea1c-46f7-a053-0156ab59a6bd",
   "metadata": {},
   "outputs": [
    {
     "data": {
      "text/plain": [
       "(100, 100, 24)"
      ]
     },
     "execution_count": 179,
     "metadata": {},
     "output_type": "execute_result"
    }
   ],
   "source": [
    "prediction_samples.shape"
   ]
  },
  {
   "cell_type": "code",
   "execution_count": null,
   "id": "8f1d203f-c87d-4ac3-805b-9eb01dcab9c6",
   "metadata": {},
   "outputs": [],
   "source": []
  }
 ],
 "metadata": {
  "kernelspec": {
   "display_name": "Python 3 (ipykernel)",
   "language": "python",
   "name": "python3"
  },
  "language_info": {
   "codemirror_mode": {
    "name": "ipython",
    "version": 3
   },
   "file_extension": ".py",
   "mimetype": "text/x-python",
   "name": "python",
   "nbconvert_exporter": "python",
   "pygments_lexer": "ipython3",
   "version": "3.10.4"
  }
 },
 "nbformat": 4,
 "nbformat_minor": 5
}
