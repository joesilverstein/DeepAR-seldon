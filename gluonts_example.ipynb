{
 "cells": [
  {
   "cell_type": "code",
   "execution_count": 74,
   "id": "e39f1d69-224c-4025-8f4f-b6e887d7f027",
   "metadata": {},
   "outputs": [],
   "source": [
    "from gluonts.dataset.util import to_pandas\n",
    "from gluonts.dataset.pandas import PandasDataset\n",
    "from gluonts.dataset.repository.datasets import get_dataset\n",
    "from gluonts.model.deepar import DeepAREstimator\n",
    "from gluonts.mx import Trainer\n",
    "\n",
    "import pickle\n",
    "import numpy as np"
   ]
  },
  {
   "cell_type": "code",
   "execution_count": 75,
   "id": "036cdf83-70c4-478c-b15d-ff90875ab601",
   "metadata": {},
   "outputs": [],
   "source": [
    "dataset = get_dataset(\"airpassengers\")"
   ]
  },
  {
   "cell_type": "code",
   "execution_count": 76,
   "id": "4c53d88e-bfa9-4d5e-bec2-d743b54df764",
   "metadata": {},
   "outputs": [
    {
     "name": "stderr",
     "output_type": "stream",
     "text": [
      "100%|█████████████████████████████████████████████████████████| 50/50 [00:02<00:00, 21.45it/s, epoch=1/5, avg_epoch_loss=5.05]\n",
      "100%|█████████████████████████████████████████████████████████| 50/50 [00:02<00:00, 22.96it/s, epoch=2/5, avg_epoch_loss=4.41]\n",
      "100%|█████████████████████████████████████████████████████████| 50/50 [00:02<00:00, 22.63it/s, epoch=3/5, avg_epoch_loss=4.18]\n",
      "100%|█████████████████████████████████████████████████████████| 50/50 [00:02<00:00, 22.90it/s, epoch=4/5, avg_epoch_loss=3.99]\n",
      "100%|█████████████████████████████████████████████████████████| 50/50 [00:02<00:00, 22.55it/s, epoch=5/5, avg_epoch_loss=3.86]\n"
     ]
    }
   ],
   "source": [
    "deepar = DeepAREstimator(prediction_length=12, freq=\"M\", trainer=Trainer(epochs=5))\n",
    "model = deepar.train(dataset.train)"
   ]
  },
  {
   "cell_type": "code",
   "execution_count": 77,
   "id": "af5351b4-51b4-49c0-9ed6-91cb03229ef3",
   "metadata": {},
   "outputs": [],
   "source": [
    "with open('gluonts_model.pkl', 'wb') as f:\n",
    "    pickle.dump(model, f)"
   ]
  },
  {
   "cell_type": "code",
   "execution_count": null,
   "id": "3dd7ed5a-5f38-4bd8-a765-d8b5856a9b45",
   "metadata": {},
   "outputs": [],
   "source": []
  },
  {
   "cell_type": "code",
   "execution_count": 78,
   "id": "7a194aac-ed91-4b66-863d-d477166451c5",
   "metadata": {},
   "outputs": [],
   "source": [
    "# with open('gluonts_model', 'rb') as f:\n",
    "#     model = pickle.load(f)"
   ]
  },
  {
   "cell_type": "code",
   "execution_count": 79,
   "id": "e5c10269-fa4c-4ab2-8ca4-967acaba388b",
   "metadata": {},
   "outputs": [
    {
     "data": {
      "text/plain": [
       "<AxesSubplot:>"
      ]
     },
     "execution_count": 79,
     "metadata": {},
     "output_type": "execute_result"
    },
    {
     "data": {
      "image/png": "[encoded data removed]",
      "text/plain": [
       "<Figure size 432x288 with 1 Axes>"
      ]
     },
     "metadata": {
      "needs_background": "light"
     },
     "output_type": "display_data"
    }
   ],
   "source": [
    "# Make predictions\n",
    "true_values = to_pandas(list(dataset.test)[0])\n",
    "true_values.to_timestamp().plot(color=\"k\")"
   ]
  },
  {
   "cell_type": "code",
   "execution_count": 80,
   "id": "fed02963-1ddd-45ff-a15d-3207487f685f",
   "metadata": {},
   "outputs": [
    {
     "data": {
      "text/plain": [
       "1949-01    112.0\n",
       "1949-02    118.0\n",
       "1949-03    132.0\n",
       "1949-04    129.0\n",
       "1949-05    121.0\n",
       "           ...  \n",
       "1957-08    467.0\n",
       "1957-09    404.0\n",
       "1957-10    347.0\n",
       "1957-11    305.0\n",
       "1957-12    336.0\n",
       "Freq: M, Length: 108, dtype: float32"
      ]
     },
     "execution_count": 80,
     "metadata": {},
     "output_type": "execute_result"
    }
   ],
   "source": [
    "true_values[:-36]"
   ]
  },
  {
   "cell_type": "code",
   "execution_count": 81,
   "id": "eee71c4d-f88b-435f-948a-498b29707509",
   "metadata": {},
   "outputs": [],
   "source": [
    "prediction_input = PandasDataset([true_values[:-36], true_values[:-24], true_values[:-12]])\n",
    "predictions = model.predict(prediction_input)"
   ]
  },
  {
   "cell_type": "code",
   "execution_count": 82,
   "id": "e01449b8-17dc-4166-8e70-8091126f1317",
   "metadata": {},
   "outputs": [
    {
     "data": {
      "text/plain": [
       "<generator object GluonPredictor.predict at 0x7fd23822e570>"
      ]
     },
     "execution_count": 82,
     "metadata": {},
     "output_type": "execute_result"
    }
   ],
   "source": [
    "predictions"
   ]
  },
  {
   "cell_type": "code",
   "execution_count": 83,
   "id": "443128c4-08d5-4383-927a-edf1e1919ed6",
   "metadata": {},
   "outputs": [
    {
     "data": {
      "text/plain": [
       "3"
      ]
     },
     "execution_count": 83,
     "metadata": {},
     "output_type": "execute_result"
    }
   ],
   "source": [
    "len(prediction_input.dataframes)"
   ]
  },
  {
   "cell_type": "code",
   "execution_count": 84,
   "id": "76fbe8fd-3812-48e0-aa2c-07f194374f31",
   "metadata": {},
   "outputs": [
    {
     "data": {
      "text/html": [
       "<div>\n",
       "<style scoped>\n",
       "    .dataframe tbody tr th:only-of-type {\n",
       "        vertical-align: middle;\n",
       "    }\n",
       "\n",
       "    .dataframe tbody tr th {\n",
       "        vertical-align: top;\n",
       "    }\n",
       "\n",
       "    .dataframe thead th {\n",
       "        text-align: right;\n",
       "    }\n",
       "</style>\n",
       "<table border=\"1\" class=\"dataframe\">\n",
       "  <thead>\n",
       "    <tr style=\"text-align: right;\">\n",
       "      <th></th>\n",
       "      <th>target</th>\n",
       "    </tr>\n",
       "  </thead>\n",
       "  <tbody>\n",
       "    <tr>\n",
       "      <th>1949-01</th>\n",
       "      <td>112.0</td>\n",
       "    </tr>\n",
       "    <tr>\n",
       "      <th>1949-02</th>\n",
       "      <td>118.0</td>\n",
       "    </tr>\n",
       "    <tr>\n",
       "      <th>1949-03</th>\n",
       "      <td>132.0</td>\n",
       "    </tr>\n",
       "    <tr>\n",
       "      <th>1949-04</th>\n",
       "      <td>129.0</td>\n",
       "    </tr>\n",
       "    <tr>\n",
       "      <th>1949-05</th>\n",
       "      <td>121.0</td>\n",
       "    </tr>\n",
       "    <tr>\n",
       "      <th>...</th>\n",
       "      <td>...</td>\n",
       "    </tr>\n",
       "    <tr>\n",
       "      <th>1957-08</th>\n",
       "      <td>467.0</td>\n",
       "    </tr>\n",
       "    <tr>\n",
       "      <th>1957-09</th>\n",
       "      <td>404.0</td>\n",
       "    </tr>\n",
       "    <tr>\n",
       "      <th>1957-10</th>\n",
       "      <td>347.0</td>\n",
       "    </tr>\n",
       "    <tr>\n",
       "      <th>1957-11</th>\n",
       "      <td>305.0</td>\n",
       "    </tr>\n",
       "    <tr>\n",
       "      <th>1957-12</th>\n",
       "      <td>336.0</td>\n",
       "    </tr>\n",
       "  </tbody>\n",
       "</table>\n",
       "<p>108 rows × 1 columns</p>\n",
       "</div>"
      ],
      "text/plain": [
       "         target\n",
       "1949-01   112.0\n",
       "1949-02   118.0\n",
       "1949-03   132.0\n",
       "1949-04   129.0\n",
       "1949-05   121.0\n",
       "...         ...\n",
       "1957-08   467.0\n",
       "1957-09   404.0\n",
       "1957-10   347.0\n",
       "1957-11   305.0\n",
       "1957-12   336.0\n",
       "\n",
       "[108 rows x 1 columns]"
      ]
     },
     "execution_count": 84,
     "metadata": {},
     "output_type": "execute_result"
    }
   ],
   "source": [
    "prediction_input.dataframes[0]"
   ]
  },
  {
   "cell_type": "code",
   "execution_count": 87,
   "id": "b1165829-3ade-4c14-bcba-e7da98be5aaa",
   "metadata": {},
   "outputs": [],
   "source": [
    "# for color, prediction in zip([\"green\", \"blue\", \"purple\"], predictions):\n",
    "#     # prediction.samples\n",
    "#     prediction.plot(color=f\"tab:{color}\")"
   ]
  },
  {
   "cell_type": "code",
   "execution_count": 88,
   "id": "3b788a6a-c54a-4c3c-bb99-a76100f98e15",
   "metadata": {},
   "outputs": [],
   "source": [
    "prediction_samples_list = [prediction.samples for prediction in predictions]\n",
    "prediction_samples = np.rollaxis(np.dstack(prediction_samples_list), -1)"
   ]
  },
  {
   "cell_type": "code",
   "execution_count": 89,
   "id": "e7300a30-4f72-467d-8127-b5be5342184c",
   "metadata": {},
   "outputs": [
    {
     "data": {
      "text/plain": [
       "(100, 12)"
      ]
     },
     "execution_count": 89,
     "metadata": {},
     "output_type": "execute_result"
    }
   ],
   "source": [
    "newarray[0, :, :].shape"
   ]
  },
  {
   "cell_type": "code",
   "execution_count": 36,
   "id": "596f1f18-df51-4e6f-841c-b33c459c5d06",
   "metadata": {},
   "outputs": [
    {
     "data": {
      "text/plain": [
       "array([[341.9212 , 374.49957, 395.2998 , ..., 396.2906 , 371.84192,\n",
       "        381.9706 ],\n",
       "       [383.01718, 380.51553, 396.40707, ..., 354.29514, 352.00375,\n",
       "        409.9256 ],\n",
       "       [368.99426, 443.0466 , 397.78403, ..., 377.17056, 366.66745,\n",
       "        399.01294],\n",
       "       ...,\n",
       "       [412.1965 , 370.36514, 405.70047, ..., 369.34402, 318.4941 ,\n",
       "        421.8488 ],\n",
       "       [371.31815, 361.28   , 406.51138, ..., 370.12625, 347.8882 ,\n",
       "        386.65903],\n",
       "       [378.50986, 389.12473, 408.1138 , ..., 343.81262, 349.35596,\n",
       "        406.6107 ]], dtype=float32)"
      ]
     },
     "execution_count": 36,
     "metadata": {},
     "output_type": "execute_result"
    }
   ],
   "source": [
    "prediction_samples[1]"
   ]
  },
  {
   "cell_type": "code",
   "execution_count": 29,
   "id": "fbf7c631-ad71-4a3b-b11e-32da12a045a9",
   "metadata": {},
   "outputs": [
    {
     "data": {
      "text/plain": [
       "gluonts.model.forecast.SampleForecast(info=None, item_id=None, samples=numpy.array([[411.3222961425781, 404.1672668457031, 460.04461669921875, 424.221923828125, 486.6156921386719, 538.8576049804688, 606.4608154296875, 666.0499267578125, 530.1238403320312, 439.6001892089844, 393.88507080078125, 473.4535217285156], [408.7738342285156, 438.00799560546875, 447.94482421875, 420.2658996582031, 471.44720458984375, 585.0565185546875, 651.6948852539062, 647.2353515625, 519.7125244140625, 413.5704650878906, 370.357421875, 441.3489685058594], [469.58123779296875, 434.600341796875, 411.4370422363281, 456.1145324707031, 433.3255615234375, 575.9312133789062, 639.3767700195312, 637.4837036132812, 493.2800598144531, 385.65850830078125, 331.6307067871094, 452.4742736816406], [408.93157958984375, 449.2195739746094, 473.21392822265625, 400.7181091308594, 467.2835388183594, 533.00048828125, 643.3807983398438, 629.7195434570312, 536.4747924804688, 423.6677551269531, 386.6248474121094, 441.4943542480469], [397.81072998046875, 411.48797607421875, 419.7393493652344, 422.44940185546875, 536.5255126953125, 575.4654541015625, 637.74951171875, 628.8424682617188, 499.6732482910156, 431.42822265625, 428.9707946777344, 437.4265441894531], [393.7420654296875, 423.1205139160156, 426.6025085449219, 364.48773193359375, 436.8780822753906, 557.3563232421875, 632.3458862304688, 619.4493408203125, 520.9385375976562, 376.1814880371094, 390.3368225097656, 467.5566101074219], [446.0857238769531, 448.7749328613281, 473.1551818847656, 493.80450439453125, 470.8717041015625, 550.0679321289062, 663.8541870117188, 641.1113891601562, 568.7296752929688, 443.0552978515625, 339.481201171875, 390.4945068359375], [399.58453369140625, 412.2079162597656, 436.010986328125, 454.7613525390625, 482.7235107421875, 575.5380859375, 634.061279296875, 611.0450439453125, 534.2017211914062, 391.026611328125, 396.67120361328125, 443.17938232421875], [389.16107177734375, 385.9106750488281, 454.5877990722656, 438.6512451171875, 457.1136474609375, 574.7431640625, 627.7230834960938, 632.76708984375, 498.521728515625, 395.90594482421875, 374.44659423828125, 446.63397216796875], [406.87030029296875, 419.41351318359375, 443.2345275878906, 456.56207275390625, 489.8356628417969, 587.4197387695312, 679.2559204101562, 611.3505249023438, 512.060302734375, 407.5106506347656, 379.30096435546875, 474.2565612792969], [399.9323425292969, 393.4609680175781, 440.87646484375, 440.406982421875, 481.1932373046875, 578.7401123046875, 642.9130249023438, 598.1276245117188, 526.7974853515625, 430.7152404785156, 372.0270080566406, 467.2813415527344], [408.49261474609375, 442.0389099121094, 451.29541015625, 467.4397888183594, 496.8019714355469, 588.68359375, 611.6343383789062, 584.2861328125, 511.9647216796875, 420.9101867675781, 367.98419189453125, 427.5810852050781], [408.77679443359375, 413.033447265625, 465.58587646484375, 472.8285217285156, 462.70538330078125, 555.7431640625, 623.5213623046875, 617.1069946289062, 512.9153442382812, 403.10711669921875, 375.0108947753906, 429.6966857910156], [387.6227722167969, 459.0466613769531, 455.1549377441406, 450.74774169921875, 504.24609375, 590.206787109375, 634.5933227539062, 616.1826782226562, 503.9482421875, 416.9893493652344, 382.29693603515625, 435.8864440917969], [395.73199462890625, 438.392578125, 467.84075927734375, 436.2169494628906, 457.1950988769531, 583.7196655273438, 632.9094848632812, 588.4124755859375, 501.4305114746094, 415.5487976074219, 366.2713317871094, 451.1368713378906], [347.8211364746094, 362.2210693359375, 427.90740966796875, 468.74249267578125, 450.03900146484375, 546.2789916992188, 612.8455200195312, 590.905517578125, 498.4046936035156, 420.1929626464844, 354.345947265625, 388.56390380859375], [427.4658203125, 387.65631103515625, 428.2116394042969, 441.39697265625, 510.7535400390625, 559.623046875, 689.8806762695312, 615.0706176757812, 498.52972412109375, 428.5362548828125, 402.50396728515625, 431.3086242675781], [414.20880126953125, 382.3074035644531, 437.25762939453125, 400.6529235839844, 487.90850830078125, 553.2189331054688, 618.56396484375, 605.7315063476562, 541.8357543945312, 371.94146728515625, 369.2024841308594, 425.2054138183594], [412.75909423828125, 444.5575256347656, 444.3202819824219, 429.94183349609375, 466.0083312988281, 563.2939453125, 679.917724609375, 648.5308837890625, 515.7879028320312, 423.5263366699219, 383.96649169921875, 411.60992431640625], [413.85565185546875, 411.8692321777344, 463.0982971191406, 439.9337463378906, 480.1006774902344, 559.4938354492188, 645.52880859375, 646.2619018554688, 509.53070068359375, 375.4891357421875, 366.81292724609375, 458.499755859375], [365.19683837890625, 369.79339599609375, 503.6790466308594, 462.9830322265625, 495.7788391113281, 557.968994140625, 642.76025390625, 624.6178588867188, 545.9989624023438, 420.9503479003906, 372.01458740234375, 390.35626220703125], [396.9334411621094, 464.5338134765625, 442.6205139160156, 423.757080078125, 496.69464111328125, 571.2662963867188, 655.2369995117188, 617.2772827148438, 502.60504150390625, 401.4236145019531, 395.5146179199219, 481.61444091796875], [364.5726623535156, 408.5247497558594, 420.92755126953125, 452.3905334472656, 529.0280151367188, 581.0277099609375, 622.8633422851562, 637.520751953125, 511.24005126953125, 382.5097351074219, 412.75994873046875, 425.97760009765625], [433.6247253417969, 403.9680480957031, 445.5775146484375, 437.1331481933594, 483.0326232910156, 569.0292358398438, 624.07275390625, 623.6564331054688, 507.1056213378906, 400.931396484375, 385.8928527832031, 500.75958251953125], [410.29248046875, 378.8904113769531, 491.7746887207031, 455.4958190917969, 490.3671569824219, 580.8927001953125, 629.7514038085938, 582.7139282226562, 499.0491638183594, 394.2348937988281, 309.143310546875, 420.031005859375], [426.8544616699219, 446.9154357910156, 459.74298095703125, 458.19732666015625, 491.4836120605469, 563.1778564453125, 631.03759765625, 649.9514770507812, 513.0728759765625, 450.3432312011719, 406.20013427734375, 471.9823303222656], [397.0008544921875, 419.4696960449219, 433.9897155761719, 449.5464172363281, 474.41522216796875, 577.3316650390625, 628.5109252929688, 568.8683471679688, 515.8639526367188, 398.1321105957031, 378.97509765625, 421.5176696777344], [378.85107421875, 392.06243896484375, 409.6834411621094, 443.5367431640625, 511.87139892578125, 595.4563598632812, 659.288330078125, 635.9609375, 494.9912414550781, 440.5431213378906, 385.6031799316406, 438.9390869140625], [360.377685546875, 395.01171875, 418.275390625, 436.03399658203125, 474.0871887207031, 570.2549438476562, 627.3119506835938, 579.6436157226562, 504.3050231933594, 388.2204895019531, 393.0215148925781, 466.2962646484375], [402.6068115234375, 454.29766845703125, 424.07135009765625, 439.596435546875, 462.59124755859375, 481.9765319824219, 615.7967529296875, 634.4317016601562, 520.45458984375, 441.36785888671875, 387.32049560546875, 431.37762451171875], [390.22119140625, 427.1837158203125, 452.333984375, 404.7041015625, 470.1539001464844, 594.1837158203125, 636.064697265625, 651.3114624023438, 518.8547973632812, 442.2558288574219, 359.0807189941406, 454.94940185546875], [398.2144470214844, 412.79864501953125, 427.0178527832031, 454.0005798339844, 490.483642578125, 549.2125244140625, 633.8727416992188, 634.2152099609375, 510.5455322265625, 424.9188232421875, 371.9952087402344, 373.1065673828125], [482.4732360839844, 444.08856201171875, 426.1431579589844, 425.9735107421875, 474.5065612792969, 529.9351196289062, 652.8655395507812, 649.666748046875, 512.0698852539062, 383.572265625, 385.0497131347656, 452.7019348144531], [432.0195007324219, 394.1994323730469, 455.82470703125, 431.3801574707031, 478.85601806640625, 562.4407958984375, 641.9953002929688, 625.5518188476562, 513.4631958007812, 393.8738098144531, 375.16943359375, 434.1527099609375], [424.0145263671875, 415.5202331542969, 460.0129089355469, 425.9290466308594, 492.9249267578125, 660.7603149414062, 644.2750854492188, 640.6888427734375, 487.41229248046875, 393.3624572753906, 374.40020751953125, 488.8952331542969], [402.421630859375, 424.15899658203125, 424.8594970703125, 436.9134826660156, 542.5990600585938, 557.774658203125, 615.802734375, 558.8146362304688, 473.9376220703125, 379.130126953125, 402.9604187011719, 444.63140869140625], [436.9608154296875, 417.0650634765625, 431.60064697265625, 445.23626708984375, 475.123779296875, 564.59619140625, 637.578369140625, 594.696044921875, 457.0577392578125, 406.2767333984375, 336.67889404296875, 355.7094421386719], [432.8881530761719, 375.3413391113281, 457.8026123046875, 446.34002685546875, 543.7965087890625, 594.5927124023438, 648.7760009765625, 560.4180908203125, 490.337158203125, 408.5300598144531, 397.3423156738281, 471.2786560058594], [382.1480712890625, 387.00115966796875, 440.4688720703125, 470.03778076171875, 474.6162414550781, 531.9412841796875, 604.196044921875, 594.4713745117188, 489.84716796875, 402.92095947265625, 392.5597229003906, 422.2846374511719], [410.0715637207031, 396.3112487792969, 451.76416015625, 512.685302734375, 483.0986022949219, 566.2428588867188, 630.0278930664062, 635.6605834960938, 506.7856750488281, 406.2625427246094, 349.099853515625, 398.4376220703125], [413.9800720214844, 420.9895935058594, 475.649169921875, 488.4971923828125, 454.1694641113281, 603.1825561523438, 620.9942016601562, 644.0076293945312, 518.5900268554688, 417.7898254394531, 432.3985290527344, 436.5200500488281], [383.55267333984375, 410.1172790527344, 458.4909362792969, 445.7098693847656, 457.0484313964844, 578.1450805664062, 619.027099609375, 603.2963256835938, 514.5342407226562, 402.3919677734375, 373.1529846191406, 441.808837890625], [368.7659912109375, 408.2029113769531, 434.3802795410156, 462.49005126953125, 501.2152404785156, 582.8843383789062, 608.8649291992188, 613.0904541015625, 508.6443786621094, 453.2034606933594, 499.541015625, 473.873046875], [397.4476623535156, 432.9906311035156, 421.1442565917969, 441.0011901855469, 439.89642333984375, 548.9053344726562, 659.3079833984375, 640.1947021484375, 524.2265014648438, 378.085693359375, 368.0841979980469, 433.3499755859375], [404.68450927734375, 417.0019836425781, 418.25555419921875, 413.22918701171875, 484.7637023925781, 634.8078002929688, 664.87255859375, 609.5363159179688, 494.10455322265625, 399.1739501953125, 371.5728454589844, 469.3244323730469], [396.4488525390625, 415.8341369628906, 412.21728515625, 427.1431884765625, 405.5867614746094, 558.5361328125, 643.8672485351562, 564.2702026367188, 484.2059631347656, 414.6296081542969, 398.6197509765625, 445.4994812011719], [396.35400390625, 437.062744140625, 463.82635498046875, 471.8534240722656, 508.2658996582031, 552.8084716796875, 622.419677734375, 629.3715209960938, 519.1446533203125, 411.8035888671875, 391.2109375, 467.2116394042969], [417.4642333984375, 414.09161376953125, 493.8984680175781, 444.1816101074219, 499.9566955566406, 550.3861083984375, 620.7726440429688, 644.65625, 511.76422119140625, 377.2237243652344, 424.00555419921875, 392.2448425292969], [449.5993957519531, 455.689453125, 440.58795166015625, 442.4072570800781, 492.1786804199219, 574.8992309570312, 654.9364013671875, 654.337646484375, 496.201171875, 391.2814636230469, 364.38409423828125, 453.47491455078125], [462.68280029296875, 458.94873046875, 455.8900146484375, 489.09442138671875, 494.8330383300781, 552.7205200195312, 628.8823852539062, 641.5625, 503.7375183105469, 406.0191345214844, 383.7939758300781, 465.5606689453125], [393.8015441894531, 362.8867492675781, 395.7361145019531, 392.427001953125, 436.630615234375, 561.4104614257812, 609.1964111328125, 581.9414672851562, 466.0477294921875, 379.27783203125, 348.2095947265625, 425.9879455566406], [439.79022216796875, 420.49273681640625, 446.9112243652344, 460.26495361328125, 480.15875244140625, 595.2152099609375, 649.0964965820312, 625.1593627929688, 504.50048828125, 402.41339111328125, 347.59014892578125, 412.4959716796875], [416.58740234375, 450.758544921875, 432.3601379394531, 419.3616027832031, 418.512939453125, 546.3436889648438, 640.1587524414062, 620.6043701171875, 505.4403076171875, 407.49005126953125, 353.75628662109375, 416.6231689453125], [430.75604248046875, 404.8729553222656, 419.5126953125, 466.94903564453125, 466.9213562011719, 573.53369140625, 629.72705078125, 604.298828125, 491.1264953613281, 397.27667236328125, 396.35491943359375, 451.7379455566406], [396.9202575683594, 446.4604797363281, 527.4500732421875, 520.3790893554688, 514.6803588867188, 586.1695556640625, 638.2093505859375, 619.670166015625, 537.4030151367188, 416.3564453125, 372.3665771484375, 401.2129821777344], [409.13299560546875, 398.7565002441406, 403.5643310546875, 429.1868896484375, 429.0469665527344, 532.1918334960938, 600.9140625, 595.158447265625, 484.5766296386719, 408.9715576171875, 394.1551818847656, 456.83392333984375], [339.6067810058594, 410.1165466308594, 453.7139892578125, 404.8073425292969, 469.3584899902344, 610.622314453125, 661.739990234375, 616.5186157226562, 503.9594421386719, 397.9526672363281, 376.787841796875, 464.5872802734375], [390.765625, 414.9888610839844, 474.4653015136719, 487.77880859375, 500.8796691894531, 575.4666748046875, 645.3728637695312, 632.7128295898438, 506.0611267089844, 414.9177551269531, 380.9324035644531, 463.22613525390625], [357.6484375, 380.2291259765625, 478.6826477050781, 451.1964111328125, 470.9197082519531, 570.0498046875, 626.0138549804688, 602.212158203125, 542.1377563476562, 420.4544982910156, 392.4954528808594, 421.8052673339844], [398.2276611328125, 527.9467163085938, 462.55596923828125, 430.7884826660156, 493.1961364746094, 553.91162109375, 633.614501953125, 635.0201416015625, 500.6593933105469, 379.59515380859375, 354.7052917480469, 434.7942199707031], [452.3982238769531, 444.2685546875, 463.90167236328125, 447.2630920410156, 440.8137512207031, 572.9260864257812, 630.0755615234375, 589.701171875, 478.9996337890625, 406.0426330566406, 398.4551086425781, 480.0547180175781], [468.5987548828125, 416.9341735839844, 459.82177734375, 465.69842529296875, 493.08026123046875, 567.0245971679688, 642.6901245117188, 608.1392822265625, 503.0116882324219, 388.4792785644531, 437.8155822753906, 475.3630676269531], [390.37762451171875, 379.8533935546875, 413.8301086425781, 431.57379150390625, 450.76763916015625, 568.4208374023438, 618.2728881835938, 604.8065185546875, 508.182861328125, 433.9874267578125, 414.3126220703125, 446.6331481933594], [419.17352294921875, 416.6943359375, 434.572998046875, 421.34039306640625, 467.44891357421875, 586.9310302734375, 653.072265625, 620.239501953125, 523.3717041015625, 409.569091796875, 357.8542175292969, 462.94097900390625], [416.38592529296875, 417.20404052734375, 403.66650390625, 435.39068603515625, 475.065673828125, 580.0546875, 641.6089477539062, 614.95263671875, 493.8912658691406, 435.1413879394531, 385.3343505859375, 475.3021545410156], [423.91058349609375, 433.10931396484375, 355.0499572753906, 420.2534484863281, 353.2808532714844, 495.503173828125, 653.3228149414062, 588.4982299804688, 531.7833251953125, 397.6770324707031, 370.65863037109375, 495.1880187988281], [307.55352783203125, 370.1968078613281, 424.6600341796875, 452.2657165527344, 492.1944885253906, 569.1692504882812, 640.2782592773438, 615.6250610351562, 497.6358947753906, 435.9663391113281, 375.7713928222656, 435.54400634765625], [404.5234069824219, 395.4382019042969, 460.09857177734375, 443.3101501464844, 485.1690673828125, 567.1822509765625, 642.1464233398438, 630.7927856445312, 523.9974365234375, 418.06134033203125, 359.36260986328125, 381.5628662109375], [389.89044189453125, 393.63555908203125, 426.87762451171875, 437.2518615722656, 491.1393737792969, 535.5765380859375, 605.0242919921875, 598.9120483398438, 499.3602294921875, 410.97149658203125, 453.0948486328125, 438.6088562011719], [386.9381103515625, 425.5588684082031, 448.8755187988281, 462.6277160644531, 476.7531433105469, 595.8873901367188, 626.121826171875, 617.1309814453125, 437.3963317871094, 380.2667541503906, 373.7786865234375, 443.86822509765625], [367.7673645019531, 393.94134521484375, 409.659423828125, 426.7980651855469, 494.33087158203125, 536.049560546875, 651.0531005859375, 602.14306640625, 493.7600402832031, 404.74859619140625, 357.9827880859375, 459.3690185546875], [409.8995056152344, 383.89068603515625, 434.0372619628906, 443.6191101074219, 475.2773742675781, 585.7221069335938, 629.4437255859375, 575.9862060546875, 528.3162841796875, 422.0565490722656, 422.22808837890625, 444.5672302246094], [418.7496032714844, 434.55596923828125, 463.1112060546875, 440.15802001953125, 430.0587463378906, 547.920654296875, 611.7305908203125, 639.8161010742188, 513.0529174804688, 401.20013427734375, 341.497314453125, 412.906494140625], [423.41845703125, 455.02545166015625, 425.9564208984375, 448.94244384765625, 506.3709716796875, 569.161865234375, 626.3348999023438, 677.730712890625, 515.9697875976562, 414.7928161621094, 380.2342224121094, 435.5489807128906], [434.78131103515625, 443.14642333984375, 425.2662048339844, 411.5544128417969, 460.67706298828125, 592.5272216796875, 644.6936645507812, 634.3875732421875, 494.6896667480469, 384.7044677734375, 345.18243408203125, 406.9393310546875], [402.87615966796875, 394.1211853027344, 440.3283996582031, 451.05255126953125, 498.5899353027344, 552.0359497070312, 626.111083984375, 608.1802368164062, 556.9273681640625, 416.9992980957031, 407.2919921875, 438.2309265136719], [439.46368408203125, 446.3016662597656, 427.8926696777344, 457.538818359375, 481.07818603515625, 599.1183471679688, 657.4147338867188, 620.9169921875, 517.71435546875, 423.6375427246094, 384.02911376953125, 465.5952453613281], [374.141845703125, 402.079345703125, 452.3265075683594, 474.07452392578125, 482.45416259765625, 507.468994140625, 598.212646484375, 606.2152099609375, 514.2312622070312, 432.52032470703125, 387.33392333984375, 388.4977722167969], [417.062744140625, 395.91741943359375, 478.1770935058594, 424.08221435546875, 466.5070495605469, 676.19384765625, 658.51611328125, 638.5421752929688, 508.9380187988281, 376.0708312988281, 367.21844482421875, 454.6350402832031], [430.8209533691406, 441.05535888671875, 438.9895324707031, 427.684326171875, 493.13677978515625, 553.4915161132812, 670.0109252929688, 634.0665283203125, 500.32672119140625, 424.4931335449219, 424.12457275390625, 471.27410888671875], [440.0200500488281, 389.1529846191406, 431.1577453613281, 427.18939208984375, 465.60565185546875, 531.5134887695312, 578.164794921875, 608.1583862304688, 514.6145629882812, 404.97918701171875, 381.58319091796875, 442.06292724609375], [394.3205871582031, 416.66094970703125, 444.8189392089844, 426.06597900390625, 485.8876647949219, 551.7781982421875, 624.1171264648438, 624.0653686523438, 551.8389892578125, 421.3667907714844, 384.61370849609375, 458.9249572753906], [399.3963317871094, 385.7016296386719, 428.3641357421875, 410.60333251953125, 454.49951171875, 531.9229736328125, 603.3128662109375, 582.455322265625, 489.6748962402344, 375.5369873046875, 363.7262268066406, 432.55743408203125], [398.9700927734375, 409.82275390625, 399.42486572265625, 427.20037841796875, 483.1396484375, 550.430908203125, 654.9071044921875, 628.7344970703125, 511.7446594238281, 431.17010498046875, 376.7979736328125, 399.4613037109375], [400.3433837890625, 429.3716735839844, 414.46392822265625, 431.30914306640625, 450.0343933105469, 508.85528564453125, 604.8712768554688, 620.3863525390625, 518.9945068359375, 413.3811340332031, 374.7673034667969, 506.2208557128906], [405.8084411621094, 480.44049072265625, 451.67718505859375, 441.6539611816406, 476.023193359375, 565.7597045898438, 638.19775390625, 634.3441162109375, 537.096923828125, 438.3836975097656, 413.9020080566406, 399.0767517089844], [392.66143798828125, 389.3228454589844, 424.7289123535156, 456.3367004394531, 441.4115295410156, 582.1011962890625, 641.406005859375, 610.2516479492188, 499.4327087402344, 422.91644287109375, 384.2886657714844, 443.6498107910156], [378.3524169921875, 393.72119140625, 486.39630126953125, 494.83538818359375, 472.34942626953125, 543.8890991210938, 625.6695556640625, 559.58837890625, 517.97314453125, 431.6698303222656, 353.237060546875, 426.6910095214844], [392.250732421875, 388.51043701171875, 418.66473388671875, 433.5169982910156, 474.277587890625, 575.7767333984375, 607.067626953125, 614.71923828125, 530.72802734375, 425.5372619628906, 401.8115234375, 453.1643981933594], [370.327880859375, 391.5160827636719, 433.01177978515625, 463.9631042480469, 493.2972106933594, 569.2393798828125, 646.6383666992188, 614.2228393554688, 495.864990234375, 396.1162414550781, 390.6873474121094, 427.87957763671875], [421.9082336425781, 422.9417419433594, 464.4490661621094, 481.6255187988281, 490.8996276855469, 554.2127075195312, 659.169189453125, 621.060791015625, 486.85833740234375, 402.81829833984375, 360.37249755859375, 407.9291687011719], [416.032958984375, 430.74755859375, 434.1890563964844, 454.3965148925781, 511.8305969238281, 581.4505004882812, 638.2308959960938, 595.357177734375, 521.6624145507812, 430.5178527832031, 415.44281005859375, 469.1985168457031], [383.58917236328125, 388.7981872558594, 447.5143127441406, 461.1978454589844, 512.5769653320312, 557.9989624023438, 602.0000610351562, 571.5672607421875, 497.6251220703125, 412.5736083984375, 391.6107482910156, 435.5223083496094], [401.275146484375, 442.42852783203125, 520.275146484375, 433.22589111328125, 469.8033447265625, 563.676025390625, 603.54052734375, 622.0127563476562, 548.4155883789062, 429.689697265625, 357.490966796875, 433.35546875], [389.6268615722656, 401.65557861328125, 456.9034118652344, 452.314697265625, 459.92083740234375, 569.9664916992188, 648.1172485351562, 608.9091796875, 495.5451965332031, 430.7853698730469, 399.6509704589844, 475.23748779296875], [416.3459777832031, 447.5126953125, 440.5036926269531, 442.09503173828125, 537.4458618164062, 577.35791015625, 655.7041015625, 602.6427001953125, 482.362548828125, 398.92706298828125, 323.0568542480469, 440.24151611328125], [400.3103942871094, 346.9477844238281, 391.4722595214844, 425.1878356933594, 450.5045166015625, 581.8045654296875, 666.8336181640625, 620.2039184570312, 509.2189025878906, 431.6246643066406, 386.94195556640625, 445.7983093261719], [412.02935791015625, 425.80255126953125, 416.7577819824219, 433.0290832519531, 471.7003173828125, 560.993896484375, 600.2782592773438, 590.1766967773438, 471.4430847167969, 427.0520935058594, 384.16241455078125, 450.6343688964844], [394.7207946777344, 388.2384033203125, 448.32794189453125, 462.5347595214844, 569.7830200195312, 580.2826538085938, 592.4821166992188, 562.3411865234375, 482.44403076171875, 408.5000305175781, 383.8553771972656, 473.5213928222656], [406.1190185546875, 424.26483154296875, 409.3283386230469, 432.45458984375, 490.4369812011719, 570.973388671875, 635.847900390625, 604.558349609375, 506.59503173828125, 407.0625915527344, 370.0043029785156, 431.86376953125]], numpy.dtype(\"float32\")), start_date=pandas.Timestamp(\"1960-01\", freq=\"M\"))"
      ]
     },
     "execution_count": 29,
     "metadata": {},
     "output_type": "execute_result"
    }
   ],
   "source": [
    "prediction"
   ]
  }
 ],
 "metadata": {
  "kernelspec": {
   "display_name": "Python 3 (ipykernel)",
   "language": "python",
   "name": "python3"
  },
  "language_info": {
   "codemirror_mode": {
    "name": "ipython",
    "version": 3
   },
   "file_extension": ".py",
   "mimetype": "text/x-python",
   "name": "python",
   "nbconvert_exporter": "python",
   "pygments_lexer": "ipython3",
   "version": "3.10.4"
  }
 },
 "nbformat": 4,
 "nbformat_minor": 5
}
